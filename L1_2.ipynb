{
 "cells": [
  {
   "cell_type": "code",
   "execution_count": 1,
   "id": "3cb11dd9-c519-4253-b56c-0b62875a01db",
   "metadata": {},
   "outputs": [],
   "source": [
    "import numpy as np\n",
    "import matplotlib.pyplot as plt\n",
    "import pandas as pd\n",
    "import seaborn as sns"
   ]
  },
  {
   "cell_type": "code",
   "execution_count": 2,
   "id": "ff180cef-5dfb-48b3-a4f1-57b9d373e94a",
   "metadata": {},
   "outputs": [],
   "source": [
    "# Suppress warnings for clean notebook\n",
    "import warnings\n",
    "warnings.filterwarnings('ignore')"
   ]
  },
  {
   "cell_type": "code",
   "execution_count": 3,
   "id": "204aec65-7077-4065-b3a8-c9f517346195",
   "metadata": {},
   "outputs": [
    {
     "data": {
      "text/html": [
       "<div>\n",
       "<style scoped>\n",
       "    .dataframe tbody tr th:only-of-type {\n",
       "        vertical-align: middle;\n",
       "    }\n",
       "\n",
       "    .dataframe tbody tr th {\n",
       "        vertical-align: top;\n",
       "    }\n",
       "\n",
       "    .dataframe thead th {\n",
       "        text-align: right;\n",
       "    }\n",
       "</style>\n",
       "<table border=\"1\" class=\"dataframe\">\n",
       "  <thead>\n",
       "    <tr style=\"text-align: right;\">\n",
       "      <th></th>\n",
       "      <th>Suburb</th>\n",
       "      <th>Address</th>\n",
       "      <th>Rooms</th>\n",
       "      <th>Type</th>\n",
       "      <th>Price</th>\n",
       "      <th>Method</th>\n",
       "      <th>SellerG</th>\n",
       "      <th>Date</th>\n",
       "      <th>Postcode</th>\n",
       "      <th>Regionname</th>\n",
       "      <th>Propertycount</th>\n",
       "      <th>Distance</th>\n",
       "      <th>CouncilArea</th>\n",
       "    </tr>\n",
       "  </thead>\n",
       "  <tbody>\n",
       "    <tr>\n",
       "      <th>0</th>\n",
       "      <td>Abbotsford</td>\n",
       "      <td>49 Lithgow St</td>\n",
       "      <td>3</td>\n",
       "      <td>h</td>\n",
       "      <td>1490000.0</td>\n",
       "      <td>S</td>\n",
       "      <td>Jellis</td>\n",
       "      <td>1/04/2017</td>\n",
       "      <td>3067</td>\n",
       "      <td>Northern Metropolitan</td>\n",
       "      <td>4019</td>\n",
       "      <td>3.0</td>\n",
       "      <td>Yarra City Council</td>\n",
       "    </tr>\n",
       "    <tr>\n",
       "      <th>1</th>\n",
       "      <td>Abbotsford</td>\n",
       "      <td>59A Turner St</td>\n",
       "      <td>3</td>\n",
       "      <td>h</td>\n",
       "      <td>1220000.0</td>\n",
       "      <td>S</td>\n",
       "      <td>Marshall</td>\n",
       "      <td>1/04/2017</td>\n",
       "      <td>3067</td>\n",
       "      <td>Northern Metropolitan</td>\n",
       "      <td>4019</td>\n",
       "      <td>3.0</td>\n",
       "      <td>Yarra City Council</td>\n",
       "    </tr>\n",
       "    <tr>\n",
       "      <th>2</th>\n",
       "      <td>Abbotsford</td>\n",
       "      <td>119B Yarra St</td>\n",
       "      <td>3</td>\n",
       "      <td>h</td>\n",
       "      <td>1420000.0</td>\n",
       "      <td>S</td>\n",
       "      <td>Nelson</td>\n",
       "      <td>1/04/2017</td>\n",
       "      <td>3067</td>\n",
       "      <td>Northern Metropolitan</td>\n",
       "      <td>4019</td>\n",
       "      <td>3.0</td>\n",
       "      <td>Yarra City Council</td>\n",
       "    </tr>\n",
       "    <tr>\n",
       "      <th>3</th>\n",
       "      <td>Aberfeldie</td>\n",
       "      <td>68 Vida St</td>\n",
       "      <td>3</td>\n",
       "      <td>h</td>\n",
       "      <td>1515000.0</td>\n",
       "      <td>S</td>\n",
       "      <td>Barry</td>\n",
       "      <td>1/04/2017</td>\n",
       "      <td>3040</td>\n",
       "      <td>Western Metropolitan</td>\n",
       "      <td>1543</td>\n",
       "      <td>7.5</td>\n",
       "      <td>Moonee Valley City Council</td>\n",
       "    </tr>\n",
       "    <tr>\n",
       "      <th>4</th>\n",
       "      <td>Airport West</td>\n",
       "      <td>92 Clydesdale Rd</td>\n",
       "      <td>2</td>\n",
       "      <td>h</td>\n",
       "      <td>670000.0</td>\n",
       "      <td>S</td>\n",
       "      <td>Nelson</td>\n",
       "      <td>1/04/2017</td>\n",
       "      <td>3042</td>\n",
       "      <td>Western Metropolitan</td>\n",
       "      <td>3464</td>\n",
       "      <td>10.4</td>\n",
       "      <td>Moonee Valley City Council</td>\n",
       "    </tr>\n",
       "  </tbody>\n",
       "</table>\n",
       "</div>"
      ],
      "text/plain": [
       "         Suburb           Address  Rooms Type      Price Method   SellerG  \\\n",
       "0    Abbotsford     49 Lithgow St      3    h  1490000.0      S    Jellis   \n",
       "1    Abbotsford     59A Turner St      3    h  1220000.0      S  Marshall   \n",
       "2    Abbotsford     119B Yarra St      3    h  1420000.0      S    Nelson   \n",
       "3    Aberfeldie        68 Vida St      3    h  1515000.0      S     Barry   \n",
       "4  Airport West  92 Clydesdale Rd      2    h   670000.0      S    Nelson   \n",
       "\n",
       "        Date  Postcode             Regionname  Propertycount  Distance  \\\n",
       "0  1/04/2017      3067  Northern Metropolitan           4019       3.0   \n",
       "1  1/04/2017      3067  Northern Metropolitan           4019       3.0   \n",
       "2  1/04/2017      3067  Northern Metropolitan           4019       3.0   \n",
       "3  1/04/2017      3040   Western Metropolitan           1543       7.5   \n",
       "4  1/04/2017      3042   Western Metropolitan           3464      10.4   \n",
       "\n",
       "                  CouncilArea  \n",
       "0          Yarra City Council  \n",
       "1          Yarra City Council  \n",
       "2          Yarra City Council  \n",
       "3  Moonee Valley City Council  \n",
       "4  Moonee Valley City Council  "
      ]
     },
     "execution_count": 3,
     "metadata": {},
     "output_type": "execute_result"
    }
   ],
   "source": [
    "df = pd.read_csv(r\"C:\\Users\\Admin\\Desktop\\melb.csv\")\n",
    "df.head()"
   ]
  },
  {
   "cell_type": "code",
   "execution_count": 4,
   "id": "597e1e16-d06b-43ee-92cd-51f159503fa1",
   "metadata": {},
   "outputs": [
    {
     "data": {
      "text/plain": [
       "Suburb             380\n",
       "Address          57754\n",
       "Rooms               14\n",
       "Type                 3\n",
       "Price             3417\n",
       "Method               9\n",
       "SellerG            476\n",
       "Date               112\n",
       "Postcode           225\n",
       "Regionname           8\n",
       "Propertycount      368\n",
       "Distance           180\n",
       "CouncilArea         34\n",
       "dtype: int64"
      ]
     },
     "execution_count": 4,
     "metadata": {},
     "output_type": "execute_result"
    }
   ],
   "source": [
    "df.nunique()"
   ]
  },
  {
   "cell_type": "code",
   "execution_count": 5,
   "id": "75d0a3ea-c701-48af-91a0-4ecd6df92ba2",
   "metadata": {},
   "outputs": [
    {
     "data": {
      "text/plain": [
       "(63023, 13)"
      ]
     },
     "execution_count": 5,
     "metadata": {},
     "output_type": "execute_result"
    }
   ],
   "source": [
    "df.shape"
   ]
  },
  {
   "cell_type": "code",
   "execution_count": 6,
   "id": "d8cc0da9-89a8-4777-b5d3-5d9ab942981d",
   "metadata": {},
   "outputs": [
    {
     "data": {
      "text/plain": [
       "Suburb               0\n",
       "Address              0\n",
       "Rooms                0\n",
       "Type                 0\n",
       "Price            14590\n",
       "Method               0\n",
       "SellerG              0\n",
       "Date                 0\n",
       "Postcode             0\n",
       "Regionname           0\n",
       "Propertycount        0\n",
       "Distance             0\n",
       "CouncilArea          0\n",
       "dtype: int64"
      ]
     },
     "execution_count": 6,
     "metadata": {},
     "output_type": "execute_result"
    }
   ],
   "source": [
    "df.isna().sum()"
   ]
  },
  {
   "cell_type": "code",
   "execution_count": null,
   "id": "4ca32866-0a4e-4af2-92c9-3d2ee2c60474",
   "metadata": {},
   "outputs": [],
   "source": []
  }
 ],
 "metadata": {
  "kernelspec": {
   "display_name": "Python 3 (ipykernel)",
   "language": "python",
   "name": "python3"
  },
  "language_info": {
   "codemirror_mode": {
    "name": "ipython",
    "version": 3
   },
   "file_extension": ".py",
   "mimetype": "text/x-python",
   "name": "python",
   "nbconvert_exporter": "python",
   "pygments_lexer": "ipython3",
   "version": "3.10.5"
  }
 },
 "nbformat": 4,
 "nbformat_minor": 5
}
